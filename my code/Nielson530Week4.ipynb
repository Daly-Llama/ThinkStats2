{
 "cells": [
  {
   "cell_type": "markdown",
   "id": "b5adbc5f",
   "metadata": {},
   "source": [
    "Dallin Nielson\\\n",
    "DSC 530 - Data Exploration and Analysis\\\n",
    "Week 4 Exercises\n",
    "\n",
    "# Exercises 3-1\n",
    "\n",
    "Something like the *class size paradox* occurs if you ask children how many family members they have. Families with many children are more likely to show up in the sample (because they have more chances of being selected), and families with no children don't have any chance of showing up in the sample.\n",
    "\n",
    "#### 1. Use the NFSG respondent variable NUMKDHH to construct the actual distribution for the number of children under 18 in the household."
   ]
  },
  {
   "cell_type": "code",
   "execution_count": 1,
   "id": "1b458b07",
   "metadata": {
    "tags": [
     "hide_cell"
    ]
   },
   "outputs": [],
   "source": [
    "# Change to the directory containing the packages\n",
    "\n",
    "import os\n",
    "os.chdir(r'C:\\Users\\dalli\\OneDrive\\Documents\\Education\\DSC 530 - Data Exploration and Analysis\\ThinkStats2\\code')"
   ]
  },
  {
   "cell_type": "code",
   "execution_count": 2,
   "id": "26b77ed6",
   "metadata": {},
   "outputs": [],
   "source": [
    "import nsfg\n",
    "import thinkplot\n",
    "import numpy as np\n",
    "import pandas as pd\n",
    "from thinkstats2 import Pmf\n",
    "from thinkstats2 import Cdf"
   ]
  },
  {
   "cell_type": "code",
   "execution_count": 3,
   "id": "71c4e4e0",
   "metadata": {},
   "outputs": [
    {
     "name": "stdout",
     "output_type": "stream",
     "text": [
      "dict_items([(0, 0.46617820227659296), (1, 0.21405207379301322), (2, 0.19625801386889966), (3, 0.08713855815779144), (4, 0.025644380478869553), (5, 0.01072877142483318)])\n"
     ]
    }
   ],
   "source": [
    "# Read the FemResp data and get the value counts for NUMKDHH\n",
    "resp = nsfg.ReadFemResp()\n",
    "children =  resp['numkdhh'].value_counts().sort_index()\n",
    "n = sum(children)\n",
    "\n",
    "# Get the actual PMF\n",
    "actual_pmf = Pmf({key: value / n for key, value in children.items()}, \"Actual\")\n",
    "print(actual_pmf.Items())"
   ]
  },
  {
   "cell_type": "markdown",
   "id": "1cdf6b88",
   "metadata": {},
   "source": [
    "#### 2. Now compute the biased distribution we would see if we surveyed the children and asked them how many children under 18 (including themselves) are in their household."
   ]
  },
  {
   "cell_type": "code",
   "execution_count": 4,
   "id": "711d3744",
   "metadata": {},
   "outputs": [
    {
     "name": "stdout",
     "output_type": "stream",
     "text": [
      "dict_items([(0, 0.0), (1, 0.20899335717935616), (2, 0.38323965252938175), (3, 0.25523760858456823), (4, 0.10015329586101175), (5, 0.052376085845682166)])\n"
     ]
    }
   ],
   "source": [
    "# Get the Biased PMF\n",
    "biased_pmf = Pmf(\n",
    "    {key:(key * value) / n for key, value in children.items()}, \"Observed\")\n",
    "print(biased_pmf.Items())"
   ]
  },
  {
   "cell_type": "markdown",
   "id": "d212fa86",
   "metadata": {},
   "source": [
    "#### 3. Plot the actual and biased distributions, and compute their means."
   ]
  },
  {
   "cell_type": "code",
   "execution_count": 5,
   "id": "7b46e21d",
   "metadata": {},
   "outputs": [
    {
     "name": "stdout",
     "output_type": "stream",
     "text": [
      "Actual mean:    1.02\n",
      "Observed mean:  2.4\n"
     ]
    },
    {
     "data": {
      "image/png": "[encoded data removed]",
      "text/plain": [
       "<Figure size 640x480 with 1 Axes>"
      ]
     },
     "metadata": {},
     "output_type": "display_data"
    }
   ],
   "source": [
    "# Plot the distributions\n",
    "thinkplot.PrePlot(2)\n",
    "thinkplot.Pmfs([actual_pmf, biased_pmf])\n",
    "thinkplot.Config(xlabel=\"# Children Under 18 In Household\", ylabel=\"PMF\")\n",
    "\n",
    "# Compute the Means\n",
    "print(f'Actual mean:    {round(actual_pmf.Mean(), 2)}')\n",
    "print(f'Observed mean:  {round(biased_pmf.Mean(), 2)}')"
   ]
  },
  {
   "cell_type": "markdown",
   "id": "6fe3b0ef",
   "metadata": {},
   "source": [
    "# Exercises 3-2\n",
    "\n",
    "#### 1. Write functions called `PmfMean` and `PmfVar` that take a `Pmf` object as an input and computes the mean/variance."
   ]
  },
  {
   "cell_type": "code",
   "execution_count": 6,
   "id": "022a51d9",
   "metadata": {},
   "outputs": [],
   "source": [
    "def PmfMean(pmfObj):\n",
    "    \"Takes a thinkstats2 Pmf object and returns its mean.\"\n",
    "    \n",
    "    try:  # Ensure the pmfObj parameter is a Pmf object\n",
    "        assert type(pmfObj) == Pmf\n",
    "    \n",
    "    except AssertionError:\n",
    "        raise AssertionError(\n",
    "            \"The argument passed to PmfMean is not a thinkstats2 Pmf object.\"\n",
    "        )\n",
    "    \n",
    "    # Return the mean of the PMF Object\n",
    "    return sum(p * value for value, p in pmfObj.Items())\n",
    "    \n",
    "\n",
    "def PmfVar(pmfObj):\n",
    "    \"Takes a thinkstats2 Pmf object and returns its variance.\"\n",
    "    \n",
    "    try:  # Ensure the pmfObj parameter is a Pmf object\n",
    "        assert type(pmfObj) == Pmf\n",
    "        \n",
    "    except AssertionError:\n",
    "        raise AssertionError(\n",
    "            \"The argument passed to PmfVar is not a thinkstats2 Pmf object.\"\n",
    "        )\n",
    "    \n",
    "    # Get the mean and return the variance\n",
    "    mean = PmfMean(pmfObj)\n",
    "    return sum(p * (value - mean) ** 2 for value, p in pmfObj.Items())"
   ]
  },
  {
   "cell_type": "markdown",
   "id": "e16089b7",
   "metadata": {},
   "source": [
    "#### 2. Check that the functions are consistent with the `mean` and `var` Pmf class functions"
   ]
  },
  {
   "cell_type": "code",
   "execution_count": 7,
   "id": "ff3d3cdf",
   "metadata": {},
   "outputs": [
    {
     "name": "stdout",
     "output_type": "stream",
     "text": [
      "Mean from my PmfMean function:  1.024205155043831\n",
      "Mean from thinkstats2 Pmf class function:  1.024205155043831\n",
      "Mean functions are consistent:  True\n"
     ]
    }
   ],
   "source": [
    "# Compare the Mean functions\n",
    "print('Mean from my PmfMean function: ', PmfMean(actual_pmf))\n",
    "print('Mean from thinkstats2 Pmf class function: ', actual_pmf.Mean())\n",
    "print('Mean functions are consistent: ', PmfMean(actual_pmf) == actual_pmf.Mean())"
   ]
  },
  {
   "cell_type": "code",
   "execution_count": 8,
   "id": "0389c914",
   "metadata": {},
   "outputs": [
    {
     "name": "stdout",
     "output_type": "stream",
     "text": [
      "Variance from my PmfVar function:  1.4128643263531193\n",
      "Variance from thinkstats2 Pmf class function:  1.4128643263531193\n",
      "Variance functions are consistent:  True\n"
     ]
    }
   ],
   "source": [
    "# Compare the Variance functions\n",
    "print('Variance from my PmfVar function: ', PmfVar(actual_pmf))\n",
    "print('Variance from thinkstats2 Pmf class function: ', actual_pmf.Var())\n",
    "print('Variance functions are consistent: ', PmfVar(actual_pmf) == actual_pmf.Var())"
   ]
  },
  {
   "cell_type": "markdown",
   "id": "c1fb9295",
   "metadata": {},
   "source": [
    "# Exercises 4-1\n",
    "\n",
    "#### 1. How much did you weigh at birth?\n",
    "I weighed 8 lbs. 4 oz., or 8.25 pounds\n",
    "\n",
    "#### 2. Using the NSFG data (for live births), compute the distribution of birth weights and use it to find your percentile rank."
   ]
  },
  {
   "cell_type": "code",
   "execution_count": 9,
   "id": "f72f8751",
   "metadata": {},
   "outputs": [
    {
     "name": "stdout",
     "output_type": "stream",
     "text": [
      "8.25 pounds is at Percentile Rank 78.69 for all births.\n"
     ]
    }
   ],
   "source": [
    "# Read in the Pregnancy data and get the live births\n",
    "preg = nsfg.ReadFemPreg()\n",
    "nsfg.CleanFemPreg(preg)\n",
    "live_births = preg[preg.outcome==1]\n",
    "\n",
    "# Get the CDF for birth weight and find the percentile rank for my weight\n",
    "weight_cdf = Cdf(live_births['totalwgt_lb'])\n",
    "my_weight = 8.25\n",
    "my_rank = weight_cdf.PercentileRank(my_weight)\n",
    "print(f'{my_weight} pounds is at Percentile Rank {round(my_rank, 2)} for all births.')"
   ]
  },
  {
   "cell_type": "markdown",
   "id": "04b196b8",
   "metadata": {},
   "source": [
    "#### 3. If you were a firstborn baby, find your percentile rank in the distribution for firstborn babies. Otherwise, find your percentile rank in the distribution for non-firstborn babies."
   ]
  },
  {
   "cell_type": "code",
   "execution_count": 10,
   "id": "796f70f2",
   "metadata": {},
   "outputs": [
    {
     "name": "stdout",
     "output_type": "stream",
     "text": [
      "8.25 pounds is at Percentile Rank 78.69 for firstborn births.\n"
     ]
    }
   ],
   "source": [
    "# Get the data for firstborn live births\n",
    "firstborns = live_births[live_births['birthord']==1]\n",
    "\n",
    "# Get the CDF for firstborn birthweight and find my percentile rank\n",
    "fb_weight_cdf = Cdf(firstborns['totalwgt_lb'])\n",
    "my_fb_rank = fb_weight_cdf.PercentileRank(my_weight)\n",
    "print(f'{my_weight} pounds is at Percentile Rank {round(my_rank, 2)} for firstborn births.')"
   ]
  },
  {
   "cell_type": "markdown",
   "id": "7b77b943",
   "metadata": {},
   "source": [
    "#### 4. If you are in the 90th percentile or higher, call your mother and apologize.\n",
    "I am lower than the 90th percentile, but I found out that one of my brothers came in at the 94th percentile weighing 9.1875 pounds, so I will be sure to inform him that he needs to apologize :)"
   ]
  },
  {
   "cell_type": "markdown",
   "id": "316c50f3",
   "metadata": {},
   "source": [
    "# Exercises 4-2\n",
    "\n",
    "#### 1. Generate 1000 numbers from `numpy.random.random` and plot their PMF and CDF."
   ]
  },
  {
   "cell_type": "code",
   "execution_count": 11,
   "id": "5ec3edbb",
   "metadata": {},
   "outputs": [
    {
     "data": {
      "image/png": "[encoded data removed]",
      "text/plain": [
       "<Figure size 640x480 with 1 Axes>"
      ]
     },
     "metadata": {},
     "output_type": "display_data"
    }
   ],
   "source": [
    "# Generate the random numbers\n",
    "rand_nums = np.random.random(size=1000)\n",
    "\n",
    "# Plot the PMF\n",
    "rand_pmf = Pmf(rand_nums)\n",
    "thinkplot.Pmfs([rand_pmf])\n",
    "thinkplot.Config(xlabel=\"Random Number\", ylabel=\"PMF\")"
   ]
  },
  {
   "cell_type": "code",
   "execution_count": 12,
   "id": "49ba4dd6",
   "metadata": {},
   "outputs": [
    {
     "data": {
      "image/png": "[encoded data removed]",
      "text/plain": [
       "<Figure size 640x480 with 1 Axes>"
      ]
     },
     "metadata": {},
     "output_type": "display_data"
    }
   ],
   "source": [
    "# Plot the CDF\n",
    "rand_cdf = Cdf([n * 100 for n in rand_nums])\n",
    "thinkplot.Cdf(rand_cdf)\n",
    "thinkplot.Config(xlabel=\"Percentile Rank\", ylabel=\"CDF\")"
   ]
  },
  {
   "cell_type": "markdown",
   "id": "b4613f6f",
   "metadata": {},
   "source": [
    "#### 2. Are the distributions random?\n",
    "Yes, we can tell that the distributions are random because the PMF chart is essentially a flat line (with all values having around the same probability), and the CDF distribution is a straight diaganol line."
   ]
  }
 ],
 "metadata": {
  "kernelspec": {
   "display_name": "Python 3 (ipykernel)",
   "language": "python",
   "name": "python3"
  },
  "language_info": {
   "codemirror_mode": {
    "name": "ipython",
    "version": 3
   },
   "file_extension": ".py",
   "mimetype": "text/x-python",
   "name": "python",
   "nbconvert_exporter": "python",
   "pygments_lexer": "ipython3",
   "version": "3.11.5"
  }
 },
 "nbformat": 4,
 "nbformat_minor": 5
}
