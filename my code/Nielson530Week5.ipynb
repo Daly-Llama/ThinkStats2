{
 "cells": [
  {
   "cell_type": "markdown",
   "id": "a1940f43",
   "metadata": {},
   "source": [
    "Dallin Nielson\\\n",
    "DSC 530 - Data Exploration and Analysis\\\n",
    "Week 5 Exercises"
   ]
  },
  {
   "cell_type": "code",
   "execution_count": 1,
   "id": "64f78714",
   "metadata": {},
   "outputs": [],
   "source": [
    "import os\n",
    "\n",
    "os.chdir(r'C:\\Users\\dalli\\OneDrive\\Documents\\Education\\DSC 530 - Data Exploration and Analysis\\ThinkStats2\\code')\n",
    "\n",
    "import thinkstats2\n",
    "import thinkplot\n",
    "import scipy"
   ]
  },
  {
   "cell_type": "markdown",
   "id": "878112d0",
   "metadata": {},
   "source": [
    "# Exercises 5-1\n",
    "\n",
    "In the BRFSS (pg. 55), the distribution of heights is roughly normal with parameters $\\mu = 178cm$ and $\\sigma = 7.7cm$ for men, and $\\mu = 163 cm$ and $\\sigma = 7.3 cm$ for women. In order to join Blue Man Group, you have to be male between 5’10” and 6’1” (see http://bluemancasting.com). \n",
    "\n",
    "#### 1. What percentage of the U.S. male population is in the height range that is eligible to join Blue Man Group?"
   ]
  },
  {
   "cell_type": "code",
   "execution_count": 2,
   "id": "2fca3799",
   "metadata": {},
   "outputs": [
    {
     "name": "stdout",
     "output_type": "stream",
     "text": [
      "Around 34.27% of the male population is in the eligible height range to join Blue Man Group.\n"
     ]
    }
   ],
   "source": [
    "# Set the mean and standard deviation for male height\n",
    "mean_male = 178\n",
    "std_male = 7.7\n",
    "\n",
    "# Set the max and min heights in cm. to join Blue Man Group\n",
    "min_cm = 177.8\n",
    "max_cm = 185.42\n",
    "\n",
    "# Get the CDF percentiles for the min and max heights, then get the difference\n",
    "min_percentile = scipy.stats.norm.cdf(min_cm, loc=mean_male, scale=std_male)\n",
    "max_percentile = scipy.stats.norm.cdf(max_cm, loc=mean_male, scale=std_male)\n",
    "diff = max_percentile - min_percentile\n",
    "\n",
    "print(f'Around {round(diff * 100, 2)}% of the male population is in the',\n",
    "     'eligible height range to join Blue Man Group.')"
   ]
  },
  {
   "cell_type": "markdown",
   "id": "e2b68123",
   "metadata": {},
   "source": [
    "# Exercises 5-2\n",
    "\n",
    "To get a feel for the Pareto distribution, let’s see how different the world would be if the distribution of human height were Pareto. With the parameters $x_m = 1 m$ and $\\alpha = 1.7$, we get a distribution with a reasonable minimum, $1 m$, and median, $1.5 m$.\n",
    "\n",
    "#### 1. Plot this distribution. "
   ]
  },
  {
   "cell_type": "code",
   "execution_count": 3,
   "id": "d12f513e",
   "metadata": {},
   "outputs": [
    {
     "data": {
      "image/png": "[encoded data removed]",
      "text/plain": [
       "<Figure size 640x480 with 1 Axes>"
      ]
     },
     "metadata": {},
     "output_type": "display_data"
    }
   ],
   "source": [
    "# Declare the x and alpha variables\n",
    "alpha = 1.7\n",
    "x_min = 1\n",
    "\n",
    "# Create and plot the Pareto distribution\n",
    "p_dist = scipy.stats.pareto(b=alpha, scale=x_min)\n",
    "xs, ps = thinkstats2.RenderParetoCdf(x_min, alpha, 0, 10.0, n=100)\n",
    "thinkplot.Plot(xs, ps)"
   ]
  },
  {
   "cell_type": "markdown",
   "id": "8d3ae150",
   "metadata": {},
   "source": [
    "#### 2. What is the mean human height in Pareto world? "
   ]
  },
  {
   "cell_type": "code",
   "execution_count": 4,
   "id": "3726008c",
   "metadata": {},
   "outputs": [
    {
     "name": "stdout",
     "output_type": "stream",
     "text": [
      "The mean height in a Pareto height world is 2.43 meters.\n"
     ]
    }
   ],
   "source": [
    "p_mean = p_dist.mean()\n",
    "\n",
    "print(f'The mean height in a Pareto height world is {round(p_mean, 2)} meters.')"
   ]
  },
  {
   "cell_type": "markdown",
   "id": "d917b493",
   "metadata": {},
   "source": [
    "#### 3. What fraction of the population is shorter than the mean? "
   ]
  },
  {
   "cell_type": "code",
   "execution_count": 5,
   "id": "bb8efaa1",
   "metadata": {},
   "outputs": [
    {
     "name": "stdout",
     "output_type": "stream",
     "text": [
      "77.87% of the population is shorter than the mean.\n"
     ]
    }
   ],
   "source": [
    "percent_lt_mean = p_dist.cdf(p_mean)\n",
    "\n",
    "print(f'{round(percent_lt_mean * 100, 2)}% of the population is shorter',\n",
    "      'than the mean.')"
   ]
  },
  {
   "cell_type": "markdown",
   "id": "793f78c3",
   "metadata": {},
   "source": [
    "#### 4. If there are 7 billion people in Pareto world, how many do we expect to be taller than 1 km? "
   ]
  },
  {
   "cell_type": "code",
   "execution_count": 6,
   "id": "98f211c7",
   "metadata": {},
   "outputs": [
    {
     "name": "stdout",
     "output_type": "stream",
     "text": [
      "We would expect 55,603 people to be taller than 1 km.\n"
     ]
    }
   ],
   "source": [
    "num_gt_1km = 7e9 * (1 - p_dist.cdf(1000))\n",
    "\n",
    "print(f'We would expect {int(round(num_gt_1km, 0)):,} people to be taller',\n",
    "      'than 1 km.')"
   ]
  },
  {
   "cell_type": "markdown",
   "id": "d0324883",
   "metadata": {},
   "source": [
    "#### 5. How tall do we expect the tallest person to be?"
   ]
  },
  {
   "cell_type": "code",
   "execution_count": 7,
   "id": "99138295",
   "metadata": {},
   "outputs": [
    {
     "name": "stdout",
     "output_type": "stream",
     "text": [
      "The tallest person would be 618,349.61 meters tall.\n"
     ]
    }
   ],
   "source": [
    "tallest = p_dist.ppf(1 - 1 / 7e9)\n",
    "\n",
    "print(f'The tallest person would be {round(tallest, 2):,} meters tall.')"
   ]
  },
  {
   "cell_type": "markdown",
   "id": "88e18ac8",
   "metadata": {},
   "source": [
    "# Exercises 6-1\n",
    "\n",
    "The distribution of income is famously skewed to the right. In this exercise, we’ll measure how strong that skew is. \n",
    "\n",
    "The Current Population Survey (CPS) is a joint effort of the Bureau of Labor Statistics and the Census Bureau to study income and related variables. Data collected in 2013 is available from http://www.census.gov/hhes/www/cpstables/032013/hhinc/toc.htm. I downloaded hinc06.xls, which is an Excel spreadsheet with information about household income, and converted it to hinc06.csv, a CSV file you will find in the repository for this book. You will also find hinc2.py, which reads this file and transforms the data.\n",
    "\n",
    "The dataset is in the form of a series of income ranges and the number of respondents who fell in each range. The lowest range includes respondents who reported annual household income “Under  5000. The highest range includes respondents who made 250,000 or more.\n",
    "\n",
    "To estimate mean and other statistics from these data, we have to make some assumptions about the lower and upper bounds, and how the values are distributed in each range. hinc2.py provides InterpolateSample, which shows one way to model this data. It takes a DataFrame with a column, income, that contains the upper bound of each range, and freq, which contains the number of respondents in each frame.\n",
    "\n",
    "It also takes log_upper, which is an assumed upper bound on the highest range, expressed in log10 dollars. The default value, log_upper=6.0 represents the assumption that the largest income among the respondents is $10^6$, or one million dollars.\n",
    "\n",
    "InterpolateSample generates a pseudo-sample; that is, a sample of household incomes that yields the same number of respondents in each range as the actual data. It assumes that incomes in each range are equally spaced on a log10 scale."
   ]
  },
  {
   "cell_type": "code",
   "execution_count": 8,
   "id": "dc25bd95",
   "metadata": {},
   "outputs": [],
   "source": [
    "import hinc\n",
    "import numpy as np\n",
    "\n",
    "data = hinc.ReadData()\n",
    "\n",
    "# Create the InterpolateSample function from ch05soln.py\n",
    "def InterpolateSample(df, log_upper=6.0):\n",
    "    \"\"\"Makes a sample of log10 household income.\n",
    "\n",
    "    Assumes that log10 income is uniform in each range.\n",
    "\n",
    "    df: DataFrame with columns income and freq\n",
    "    log_upper: log10 of the assumed upper bound for the highest range\n",
    "\n",
    "    returns: NumPy array of log10 household income\n",
    "    \"\"\"\n",
    "    # compute the log10 of the upper bound for each range\n",
    "    df['log_upper'] = np.log10(df.income)\n",
    "\n",
    "    # get the lower bounds by shifting the upper bound and filling in\n",
    "    # the first element\n",
    "    df['log_lower'] = df.log_upper.shift(1)\n",
    "    df.loc[0, 'log_lower'] = 3.0\n",
    "\n",
    "    # plug in a value for the unknown upper bound of the highest range\n",
    "    df.loc[41, 'log_upper'] = log_upper\n",
    "    \n",
    "    # use the freq column to generate the right number of values in\n",
    "    # each range\n",
    "    arrays = []\n",
    "    for _, row in df.iterrows():\n",
    "        vals = np.linspace(row.log_lower, row.log_upper, int(row.freq))\n",
    "        arrays.append(vals)\n",
    "\n",
    "    # collect the arrays into a single sample\n",
    "    log_sample = np.concatenate(arrays)\n",
    "    return log_sample\n",
    "\n",
    "\n",
    "log_sample = InterpolateSample(data)\n",
    "sample = np.power(10, log_sample)"
   ]
  },
  {
   "cell_type": "markdown",
   "id": "67e8cc7b",
   "metadata": {},
   "source": [
    "#### 1. Compute the median, mean, skewness and Pearson’s skewness of the resulting sample. "
   ]
  },
  {
   "cell_type": "code",
   "execution_count": 9,
   "id": "a703525f",
   "metadata": {},
   "outputs": [
    {
     "name": "stdout",
     "output_type": "stream",
     "text": [
      "Mean:            74,278.71\n",
      "Median:          51,226.93\n",
      "Skewness:             4.95\n",
      "Pearson's Skewness:   0.74\n"
     ]
    }
   ],
   "source": [
    "print(f'Mean: {round(thinkstats2.Mean(sample), 2):>20,}')\n",
    "print(f'Median: {round(np.median(sample), 2):>18,}')\n",
    "print(f'Skewness: {round(thinkstats2.Skewness(sample), 2):>16}')\n",
    "pearsons = thinkstats2.PearsonMedianSkewness(sample)\n",
    "print(f\"Pearson's Skewness: {round(pearsons, 2):>6}\")"
   ]
  },
  {
   "cell_type": "markdown",
   "id": "df64fe08",
   "metadata": {},
   "source": [
    "#### 2. What fraction of households report a taxable income below the mean? "
   ]
  },
  {
   "cell_type": "code",
   "execution_count": 10,
   "id": "71305aa0",
   "metadata": {},
   "outputs": [
    {
     "name": "stdout",
     "output_type": "stream",
     "text": [
      "66% of households have a taxable income below the mean.\n"
     ]
    }
   ],
   "source": [
    "cdf = thinkstats2.Cdf(sample)\n",
    "lt_mean = cdf.Prob(np.mean(sample))\n",
    "print(f\"{round(lt_mean * 100)}% of households have a taxable income below\",\n",
    "      \"the mean.\")"
   ]
  },
  {
   "cell_type": "markdown",
   "id": "f95e2e09",
   "metadata": {},
   "source": [
    "#### 3. How do the results depend on the assumed upper bound?\n",
    "\n",
    "Because the mean is very susceptible to outliers, the results could be drastically different if we hadn't capped the income at $1 million. The larger the outliers, the greater the skew will be."
   ]
  }
 ],
 "metadata": {
  "kernelspec": {
   "display_name": "Python 3 (ipykernel)",
   "language": "python",
   "name": "python3"
  },
  "language_info": {
   "codemirror_mode": {
    "name": "ipython",
    "version": 3
   },
   "file_extension": ".py",
   "mimetype": "text/x-python",
   "name": "python",
   "nbconvert_exporter": "python",
   "pygments_lexer": "ipython3",
   "version": "3.11.5"
  }
 },
 "nbformat": 4,
 "nbformat_minor": 5
}
