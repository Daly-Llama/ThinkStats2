{
 "cells": [
  {
   "cell_type": "markdown",
   "id": "78cb7867",
   "metadata": {},
   "source": [
    "Dallin Nielson\\\n",
    "DSC 530 - Data Exploration and Analysis\\\n",
    "Week 3 Exercises\n",
    "\n",
    "\n",
    "# Exercises 1-1\n",
    "\n",
    "#### 1. Import the NSFG data"
   ]
  },
  {
   "cell_type": "code",
   "execution_count": 1,
   "id": "582d216e",
   "metadata": {},
   "outputs": [],
   "source": [
    "import os\n",
    "os.chdir(r'C:\\Users\\dalli\\OneDrive\\Documents\\Education\\DSC 530 - Data Exploration and Analysis\\ThinkStats2\\code')\n",
    "import nsfg\n",
    "\n",
    "# Import and clean the data\n",
    "preg = nsfg.ReadFemPreg()\n",
    "nsfg.CleanFemPreg(preg)"
   ]
  },
  {
   "cell_type": "markdown",
   "id": "a6650fde",
   "metadata": {},
   "source": [
    "#### 2. Select the `birthord` column, print the value counts, and compare to results published in the codebook."
   ]
  },
  {
   "cell_type": "code",
   "execution_count": 2,
   "id": "2b7fe371",
   "metadata": {},
   "outputs": [
    {
     "name": "stdout",
     "output_type": "stream",
     "text": [
      "birthord\n",
      "1.0     4413\n",
      "2.0     2874\n",
      "3.0     1234\n",
      "4.0      421\n",
      "5.0      126\n",
      "6.0       50\n",
      "7.0       20\n",
      "8.0        7\n",
      "9.0        2\n",
      "10.0       1\n",
      "Name: count, dtype: int64\n"
     ]
    }
   ],
   "source": [
    "birthord_col = preg['birthord']\n",
    "print(birthord_col.value_counts().sort_index())"
   ]
  },
  {
   "cell_type": "markdown",
   "id": "c29f4184",
   "metadata": {},
   "source": [
    "My results above for the `birthord` column match what is shown in the codebook:\n",
    "\n",
    "Value  Label Total\\\n",
    "01 1ST BIRTH 4413\\\n",
    "02 2ND BIRTH 2874\\\n",
    "03 3RD BIRTH 1234\\\n",
    "04 4TH BIRTH 421\\\n",
    "05 5TH BIRTH 126\\\n",
    "06 6TH BIRTH 50\\\n",
    "07 7TH BIRTH 20\\\n",
    "08 8TH BIRTH 7\\\n",
    "09 9TH BIRTH 2\\\n",
    "10 10TH BIRTH 1"
   ]
  },
  {
   "cell_type": "markdown",
   "id": "55f95065",
   "metadata": {},
   "source": [
    "#### 3. Use `isnull` to count the number of *nans*"
   ]
  },
  {
   "cell_type": "code",
   "execution_count": 3,
   "id": "8f64a001",
   "metadata": {},
   "outputs": [
    {
     "name": "stdout",
     "output_type": "stream",
     "text": [
      "4445 values for the birthord column are empty.\n"
     ]
    }
   ],
   "source": [
    "print(f'{birthord_col.isnull().sum()} values for the birthord column are empty.')"
   ]
  },
  {
   "cell_type": "markdown",
   "id": "204045fa",
   "metadata": {},
   "source": [
    "#### 4. Select the `prglngth` column, print the value counts, and compare to results published in the codebook"
   ]
  },
  {
   "cell_type": "code",
   "execution_count": 4,
   "id": "e5087b1c",
   "metadata": {},
   "outputs": [
    {
     "name": "stdout",
     "output_type": "stream",
     "text": [
      "prglngth\n",
      "0       15\n",
      "1        9\n",
      "2       78\n",
      "3      151\n",
      "4      412\n",
      "5      181\n",
      "6      543\n",
      "7      175\n",
      "8      409\n",
      "9      594\n",
      "10     137\n",
      "11     202\n",
      "12     170\n",
      "13     446\n",
      "14      29\n",
      "15      39\n",
      "16      44\n",
      "17     253\n",
      "18      17\n",
      "19      34\n",
      "20      18\n",
      "21      37\n",
      "22     147\n",
      "23      12\n",
      "24      31\n",
      "25      15\n",
      "26     117\n",
      "27       8\n",
      "28      38\n",
      "29      23\n",
      "30     198\n",
      "31      29\n",
      "32     122\n",
      "33      50\n",
      "34      60\n",
      "35     357\n",
      "36     329\n",
      "37     457\n",
      "38     609\n",
      "39    4744\n",
      "40    1120\n",
      "41     591\n",
      "42     328\n",
      "43     148\n",
      "44      46\n",
      "45      10\n",
      "46       1\n",
      "47       1\n",
      "48       7\n",
      "50       2\n",
      "Name: count, dtype: int64\n"
     ]
    }
   ],
   "source": [
    "prglngth_col = preg['prglngth']\n",
    "print(prglngth_col.value_counts().sort_index())"
   ]
  },
  {
   "cell_type": "markdown",
   "id": "8b7b615b",
   "metadata": {},
   "source": [
    "The following are the values for the `prglngth` column in the codebook:\n",
    "\n",
    "13 WEEKS OR LESS    3522\\\n",
    "14-26 WEEKS          793\\\n",
    "27 WEEKS OR LONGER  9278\\\n",
    "Total              13593\n",
    "\n",
    "Because the values in the codebook have been recoded, I'll recode my data and check the totals against the codebook:"
   ]
  },
  {
   "cell_type": "code",
   "execution_count": 5,
   "id": "32e5fc8a",
   "metadata": {},
   "outputs": [
    {
     "name": "stdout",
     "output_type": "stream",
     "text": [
      "0-13 Weeks:  3522\n",
      "14-26 Weeks: 793\n",
      "27 + Weeks:  9278\n",
      "Total:       13593\n"
     ]
    }
   ],
   "source": [
    "# Get the totals that match the recoded prglngth categories from the codebook\n",
    "prglngth_lte_13 = prglngth_col[prglngth_col <= 13].count()\n",
    "prglngth_lte_14_gte_26 = prglngth_col[(prglngth_col >= 14) & (prglngth_col <= 26)].count()\n",
    "prglngth_gte_27 = prglngth_col[prglngth_col >= 27].count()\n",
    "\n",
    "# Print the totals for the recoded counts\n",
    "print(f\"0-13 Weeks:  {prglngth_lte_13}\")\n",
    "print(f\"14-26 Weeks: {prglngth_lte_14_gte_26}\")\n",
    "print(f\"27 + Weeks:  {prglngth_gte_27}\")\n",
    "print(f\"Total:       {prglngth_lte_13 + prglngth_lte_14_gte_26 + prglngth_gte_27}\")"
   ]
  },
  {
   "cell_type": "markdown",
   "id": "573601d6",
   "metadata": {},
   "source": [
    "The results show that my data matches the values from the codebook."
   ]
  },
  {
   "cell_type": "markdown",
   "id": "df6c8247",
   "metadata": {},
   "source": [
    "#### 5. Create a new column named `totalwgt_kg` that contains birth weight in kilograms. Compute its mean."
   ]
  },
  {
   "cell_type": "code",
   "execution_count": 6,
   "id": "1b4b2f44",
   "metadata": {},
   "outputs": [
    {
     "name": "stdout",
     "output_type": "stream",
     "text": [
      "Mean Birth Weight in KGs: 3.3\n"
     ]
    }
   ],
   "source": [
    "preg['totalwgt_kg'] = preg['totalwgt_lb'] * 0.45359237\n",
    "print(f\"Mean Birth Weight in KGs: {round(preg['totalwgt_kg'].mean(), 2)}\")"
   ]
  },
  {
   "cell_type": "markdown",
   "id": "6b919401",
   "metadata": {},
   "source": [
    "#### 6. Read the female respondents file using `ReadFemResp` and display the first 5 rows"
   ]
  },
  {
   "cell_type": "code",
   "execution_count": 7,
   "id": "eed36a80",
   "metadata": {},
   "outputs": [
    {
     "name": "stdout",
     "output_type": "stream",
     "text": [
      "   caseid  rscrinf  rdormres  rostscrn  rscreenhisp  rscreenrace  age_a  \\\n",
      "0    2298        1         5         5            1          5.0     27   \n",
      "1    5012        1         5         1            5          5.0     42   \n",
      "2   11586        1         5         1            5          5.0     43   \n",
      "3    6794        5         5         4            1          5.0     15   \n",
      "4     616        1         5         4            1          5.0     20   \n",
      "\n",
      "   age_r  cmbirth  agescrn  ...  pubassis_i      basewgt  adj_mod_basewgt  \\\n",
      "0     27      902       27  ...           0  3247.916977      5123.759559   \n",
      "1     42      718       42  ...           0  2335.279149      2846.799490   \n",
      "2     43      708       43  ...           0  2335.279149      2846.799490   \n",
      "3     15     1042       15  ...           0  3783.152221      5071.464231   \n",
      "4     20      991       20  ...           0  5341.329968      6437.335772   \n",
      "\n",
      "      finalwgt  secu_r  sest  cmintvw  cmlstyr  screentime   intvlngth  \n",
      "0  5556.717241       2    18     1234     1222    18:26:36  110.492667  \n",
      "1  4744.191350       2    18     1233     1221    16:30:59   64.294000  \n",
      "2  4744.191350       2    18     1234     1222    18:19:09   75.149167  \n",
      "3  5923.977368       2    18     1234     1222    15:54:43   28.642833  \n",
      "4  7229.128072       2    18     1233     1221    14:19:44   69.502667  \n",
      "\n",
      "[5 rows x 3087 columns]\n"
     ]
    }
   ],
   "source": [
    "resp = nsfg.ReadFemResp()\n",
    "print(resp.head())"
   ]
  },
  {
   "cell_type": "markdown",
   "id": "0c6363b0",
   "metadata": {},
   "source": [
    "#### 7. Select the `age_r` column from `resp` and print the value counts. How old are the youngest and oldest respondents?"
   ]
  },
  {
   "cell_type": "code",
   "execution_count": 8,
   "id": "76de2a17",
   "metadata": {},
   "outputs": [
    {
     "name": "stdout",
     "output_type": "stream",
     "text": [
      "age_r\n",
      "15    217\n",
      "16    223\n",
      "17    234\n",
      "18    235\n",
      "19    241\n",
      "20    258\n",
      "21    267\n",
      "22    287\n",
      "23    282\n",
      "24    269\n",
      "25    267\n",
      "26    260\n",
      "27    255\n",
      "28    252\n",
      "29    262\n",
      "30    292\n",
      "31    278\n",
      "32    273\n",
      "33    257\n",
      "34    255\n",
      "35    262\n",
      "36    266\n",
      "37    271\n",
      "38    256\n",
      "39    215\n",
      "40    256\n",
      "41    250\n",
      "42    215\n",
      "43    253\n",
      "44    235\n",
      "Name: count, dtype: int64\n"
     ]
    }
   ],
   "source": [
    "age_r_col = resp['age_r']\n",
    "print(age_r_col.value_counts().sort_index())"
   ]
  },
  {
   "cell_type": "markdown",
   "id": "e1ffa52b",
   "metadata": {},
   "source": [
    "The youngest respondents are **15** and the oldest respondents are **44**."
   ]
  },
  {
   "cell_type": "markdown",
   "id": "cae14ef7",
   "metadata": {},
   "source": [
    "#### 8. How old is the respondent with `caseid` 1?"
   ]
  },
  {
   "cell_type": "code",
   "execution_count": 9,
   "id": "c5ac22cf",
   "metadata": {},
   "outputs": [
    {
     "name": "stdout",
     "output_type": "stream",
     "text": [
      "Respondent 1 is 44 years old.\n"
     ]
    }
   ],
   "source": [
    "id_1_row = resp[resp.caseid==1]   # The row for caseid 1\n",
    "id_1_age = id_1_row['age_r']      # The age value for caseid 1\n",
    "print(f\"Respondent 1 is {id_1_age.item()} years old.\")"
   ]
  },
  {
   "cell_type": "markdown",
   "id": "c26ff162",
   "metadata": {},
   "source": [
    "#### 9. What are the pregnancy lengths for the respondent with `caseid` 2298?"
   ]
  },
  {
   "cell_type": "code",
   "execution_count": 10,
   "id": "0d6ebc35",
   "metadata": {
    "scrolled": true
   },
   "outputs": [
    {
     "name": "stdout",
     "output_type": "stream",
     "text": [
      "prglngth\n",
      "30    1\n",
      "36    1\n",
      "40    2\n",
      "Name: count, dtype: int64\n"
     ]
    }
   ],
   "source": [
    "id_2298_rows = preg[preg.caseid==2298]        # The rows for caseid 2298\n",
    "id_2298_lengths = id_2298_rows['prglngth']    # The prglngth values for each row\n",
    "print(id_2298_lengths.value_counts().sort_index())"
   ]
  },
  {
   "cell_type": "markdown",
   "id": "73539296",
   "metadata": {},
   "source": [
    "Respondent 2298 had 1 pregnancy lasting 30 weeks, 1 lasting 36 weeks, and 2 lasting 40 weeks."
   ]
  },
  {
   "cell_type": "markdown",
   "id": "7fca1fc8",
   "metadata": {},
   "source": [
    "#### 10. What was the birthweight of the first baby born to the respondent with `caseid` 5012?"
   ]
  },
  {
   "cell_type": "code",
   "execution_count": 11,
   "id": "f16cc321",
   "metadata": {},
   "outputs": [
    {
     "name": "stdout",
     "output_type": "stream",
     "text": [
      "Respondent 5012's firstborn baby weighed 6.0 pounds (2.72 kilograms).\n"
     ]
    }
   ],
   "source": [
    "# Get the 1st birth for respondent 5012\n",
    "id_5012_1st_birth = preg[(preg.caseid==5012) & (preg.birthord==1)] \n",
    "\n",
    "# Get the total weight (in lbs and kgs)\n",
    "lbs_5012 = id_5012_1st_birth['totalwgt_lb'].item()\n",
    "kgs_5012 = id_5012_1st_birth['totalwgt_kg'].item()\n",
    "\n",
    "# Print the results\n",
    "print(f\"Respondent 5012's firstborn baby weighed {round(lbs_5012, 2)} pounds ({round(kgs_5012, 2)} kilograms).\")"
   ]
  },
  {
   "cell_type": "markdown",
   "id": "7ab434a1",
   "metadata": {},
   "source": [
    "# Exercises 1-2\n",
    "\n",
    "#### 1. Write code that reads the *2002FemResp.dat.gz* data file"
   ]
  },
  {
   "cell_type": "code",
   "execution_count": 12,
   "id": "1575ccac",
   "metadata": {},
   "outputs": [
    {
     "name": "stdout",
     "output_type": "stream",
     "text": [
      "   caseid  rscrinf  rdormres  rostscrn  rscreenhisp  rscreenrace  age_a  \\\n",
      "0    2298        1         5         5            1          5.0     27   \n",
      "1    5012        1         5         1            5          5.0     42   \n",
      "2   11586        1         5         1            5          5.0     43   \n",
      "3    6794        5         5         4            1          5.0     15   \n",
      "4     616        1         5         4            1          5.0     20   \n",
      "\n",
      "   age_r  cmbirth  agescrn  ...  pubassis_i      basewgt  adj_mod_basewgt  \\\n",
      "0     27      902       27  ...           0  3247.916977      5123.759559   \n",
      "1     42      718       42  ...           0  2335.279149      2846.799490   \n",
      "2     43      708       43  ...           0  2335.279149      2846.799490   \n",
      "3     15     1042       15  ...           0  3783.152221      5071.464231   \n",
      "4     20      991       20  ...           0  5341.329968      6437.335772   \n",
      "\n",
      "      finalwgt  secu_r  sest  cmintvw  cmlstyr  screentime   intvlngth  \n",
      "0  5556.717241       2    18     1234     1222    18:26:36  110.492667  \n",
      "1  4744.191350       2    18     1233     1221    16:30:59   64.294000  \n",
      "2  4744.191350       2    18     1234     1222    18:19:09   75.149167  \n",
      "3  5923.977368       2    18     1234     1222    15:54:43   28.642833  \n",
      "4  7229.128072       2    18     1233     1221    14:19:44   69.502667  \n",
      "\n",
      "[5 rows x 3087 columns]\n"
     ]
    }
   ],
   "source": [
    "import thinkstats2\n",
    "\n",
    "femResp = nsfg.ReadFemResp()\n",
    "print(femResp.head())"
   ]
  },
  {
   "cell_type": "markdown",
   "id": "45b93573",
   "metadata": {},
   "source": [
    "#### 2. Print the value counts for `pregnum` and compare the results to the NSFG codebook."
   ]
  },
  {
   "cell_type": "code",
   "execution_count": 13,
   "id": "6a2630aa",
   "metadata": {},
   "outputs": [
    {
     "name": "stdout",
     "output_type": "stream",
     "text": [
      "pregnum\n",
      "0     2610\n",
      "1     1267\n",
      "2     1432\n",
      "3     1110\n",
      "4      611\n",
      "5      305\n",
      "6      150\n",
      "7       80\n",
      "8       40\n",
      "9       21\n",
      "10       9\n",
      "11       3\n",
      "12       2\n",
      "14       2\n",
      "19       1\n",
      "Name: count, dtype: int64\n"
     ]
    }
   ],
   "source": [
    "print(femResp['pregnum'].value_counts().sort_index())"
   ]
  },
  {
   "cell_type": "markdown",
   "id": "4618260d",
   "metadata": {},
   "source": [
    "The value for 1 Pregnancy is the same as the codebook, but the counts for the rest of the values don't match up with what I'm seeing in the codebook.\n",
    "\n",
    "CODEBOOK        COUNT\\\n",
    "1 PREGNANCY      1267\\\n",
    "2 PREGNANCIES    2864\\\n",
    "3 PREGNANCIES    3330\\\n",
    "4 PREGNANCIES    2444\\\n",
    "5 PREGNANCIES    1525\\\n",
    "6 PREGNANCIES     900\\\n",
    "7 + PREGNANCIES  1263"
   ]
  },
  {
   "cell_type": "markdown",
   "id": "17802017",
   "metadata": {},
   "source": [
    "#### 3. Cross-reference the respondent and pregnancy files by comparing `pregnum` for each respondent with the number of records in the pregnancy file"
   ]
  },
  {
   "cell_type": "code",
   "execution_count": 14,
   "id": "66c9f02a",
   "metadata": {},
   "outputs": [
    {
     "name": "stdout",
     "output_type": "stream",
     "text": [
      "Sum of 'pregnum':  13593\n",
      "Length of 'preg':  13593\n"
     ]
    }
   ],
   "source": [
    "print(f\"Sum of 'pregnum':  {femResp['pregnum'].sum()}\")\n",
    "print(f\"Length of 'preg':  {len(preg)}\")"
   ]
  },
  {
   "cell_type": "markdown",
   "id": "727c1a23",
   "metadata": {},
   "source": [
    "The sum of the `pregnum` column in the FemResp data is the same as the number of records in the `preg` dataframe."
   ]
  },
  {
   "cell_type": "markdown",
   "id": "ff43b9a9",
   "metadata": {},
   "source": [
    "#### 4. Use `nsfg.MakePregMap` to make a dictionary that maps from each `caseid` to a list of indices into the Pregnancy dataframe"
   ]
  },
  {
   "cell_type": "code",
   "execution_count": 15,
   "id": "033f7c7b",
   "metadata": {},
   "outputs": [
    {
     "name": "stdout",
     "output_type": "stream",
     "text": [
      "Dictionary map is valid: True\n"
     ]
    }
   ],
   "source": [
    "preg_dict = nsfg.MakePregMap(preg)\n",
    "valid = nsfg.ValidatePregnum(femResp, preg)\n",
    "print(f\"Dictionary map is valid: {valid}\")"
   ]
  },
  {
   "cell_type": "markdown",
   "id": "696f81d4",
   "metadata": {},
   "source": [
    "The dictionary map confirms that `pregnum` accurately corresponds with the pregnancy dataframe."
   ]
  },
  {
   "cell_type": "markdown",
   "id": "72fbf1ef",
   "metadata": {},
   "source": [
    "# Exercises 2-1\n",
    "\n",
    "Suppose you were asked to summarize what you learned from the data about whether firstborn babies arrive late.\n",
    "\n",
    "#### 1. What summary statistics would you use if you wanted to get a story on the evening news?\n",
    "I would use the Mean as the primary summary statistic for the news story, because it is familiar to most viewers and it illustrates the main findings of the analysis, which is that there is barely any difference in pregnancy length for firstborn babies than for later born babies.\n",
    "\n",
    "#### 2. What summary statistics would you use to help soothe an anxious patient?\n",
    "Because a patient would probably be more concerned with the timing of when their baby would be born, we could create a \"probability window\" using the mean and standard deviation measures. If the mean is 38.7 and the standard deviation is 2.45, we could tell the patient that 50% of pregnancies last 38.7 &pm; 2.45 weeks. We could even tailor the probability estimate to the specific situation the patient is worried about, such as the liklihood of a pregnancy lasting less than 30 weeks.\n",
    "\n",
    "#### 3. Imagine you are Cecil Adams answering the question \"Do firstborn babies arrive late?\" Write a paragraph using the results from the chapter to answer the question accurately and honestly."
   ]
  },
  {
   "cell_type": "code",
   "execution_count": 16,
   "id": "21714e32",
   "metadata": {},
   "outputs": [
    {
     "name": "stdout",
     "output_type": "stream",
     "text": [
      "First Births: \n",
      "mean    38.713014\n",
      "var      6.005996\n",
      "std      2.450713\n",
      "Name: prglngth, dtype: float64\n",
      "\n",
      "Other Births: \n",
      "mean    38.482822\n",
      "var      5.818584\n",
      "std      2.412174\n",
      "Name: prglngth, dtype: float64\n",
      "\n"
     ]
    }
   ],
   "source": [
    "# Get summary statistics for First Births\n",
    "first_births = preg[(preg.birthord==1) & (preg.prglngth > 27)]\n",
    "fb_desc = first_births.prglngth.agg(['mean', 'var', 'std'])\n",
    "print(f\"First Births: \\n{fb_desc}\\n\")\n",
    "\n",
    "# Get summary statistics for Other Births\n",
    "other_births = preg[(preg.birthord!=1) & (preg.prglngth > 27)]\n",
    "ob_desc = other_births.prglngth.agg(['mean', 'var', 'std'])\n",
    "print(f\"Other Births: \\n{ob_desc}\\n\")"
   ]
  },
  {
   "cell_type": "markdown",
   "id": "70cce431",
   "metadata": {},
   "source": [
    "Do pregnancies for firstborn babies really last longer than other pregnancies? In a 2003 study, the *National Survey for Family Growth* (NFSG) collected data on over 13,000 pregancies. We separated the data for 1st pregnancies from the data for later pregancies and compared the results. \n",
    "\n",
    "Firstborn pregnancies had a mean duration of 38.71 weeks, a variance of 6, and a standard deviation of 2.45. Other births had a mean duration of 38.48 weeks, a variance of 5.81, and a standard deviation of 2.41. While first pregnancies are technically longer in this comparison, the difference is so small that it's hardly worth mentioning."
   ]
  },
  {
   "cell_type": "markdown",
   "id": "4f006673",
   "metadata": {},
   "source": [
    "# Exercises 2-4\n",
    "\n",
    "#### 1. Using the `totalwgt_lb` variable, look at whether firstborn babies are lighter or heavier than other babies."
   ]
  },
  {
   "cell_type": "code",
   "execution_count": 17,
   "id": "5843bc0c",
   "metadata": {},
   "outputs": [
    {
     "data": {
      "image/png": "[encoded data removed]",
      "text/plain": [
       "<Figure size 640x480 with 2 Axes>"
      ]
     },
     "metadata": {},
     "output_type": "display_data"
    }
   ],
   "source": [
    "import matplotlib.pyplot as plt\n",
    "from math import ceil\n",
    "\n",
    "fig, axes = plt.subplots(1, 2)\n",
    "\n",
    "# Get the highest value between both datasets for the Y-axis maximum\n",
    "y_max = ceil(max(max(first_births.totalwgt_lb), max(other_births.totalwgt_lb)))\n",
    "\n",
    "# Create the boxplot for First Births\n",
    "first_births.boxplot('totalwgt_lb', ax=axes[0])\n",
    "axes[0].grid(visible=False)\n",
    "axes[0].set_ylim(0, y_max)\n",
    "axes[0].set_title(\"First Births\")\n",
    "\n",
    "# Create the boxplot for Other Births\n",
    "other_births.boxplot('totalwgt_lb', ax=axes[1])\n",
    "axes[1].grid(visible=False)\n",
    "axes[1].set_ylim(0, y_max)\n",
    "axes[1].set_title(\"Other Births\")\n",
    "\n",
    "plt.show()"
   ]
  },
  {
   "cell_type": "markdown",
   "id": "ed016c92",
   "metadata": {},
   "source": [
    "When comparing the boxplots for `totalwgt_lb` between First Births and Other Births, the distributions seem very similar to each other. The only visible difference is that First Births have a few outliers that are higher than Other Births."
   ]
  },
  {
   "cell_type": "code",
   "execution_count": 18,
   "id": "eecdc27e",
   "metadata": {},
   "outputs": [
    {
     "name": "stdout",
     "output_type": "stream",
     "text": [
      "First Births: \n",
      "mean    7.238438\n",
      "var     1.826530\n",
      "std     1.351492\n",
      "Name: totalwgt_lb, dtype: float64\n",
      "\n",
      "Other Births: \n",
      "mean    7.356175\n",
      "var     1.802898\n",
      "std     1.342721\n",
      "Name: totalwgt_lb, dtype: float64\n",
      "\n"
     ]
    }
   ],
   "source": [
    "# Get summary statistics for First Births\n",
    "fb_weight = first_births.totalwgt_lb.agg(['mean', 'var', 'std'])\n",
    "print(f\"First Births: \\n{fb_weight}\\n\")\n",
    "\n",
    "# Get summary statistics for Other Births\n",
    "ob_weight = other_births.totalwgt_lb.agg(['mean', 'var', 'std'])\n",
    "print(f\"Other Births: \\n{ob_weight}\\n\")"
   ]
  },
  {
   "cell_type": "markdown",
   "id": "d8262416",
   "metadata": {},
   "source": [
    "From the output above, we can also see that the Mean, Variance, and Standard Deviations between the two groups also are very similar to each other."
   ]
  },
  {
   "cell_type": "markdown",
   "id": "67a26dd6",
   "metadata": {},
   "source": [
    "#### 2. Compute Cohen's *d* to quantify the difference between the groups."
   ]
  },
  {
   "cell_type": "code",
   "execution_count": 19,
   "id": "08b76ae9",
   "metadata": {},
   "outputs": [
    {
     "name": "stdout",
     "output_type": "stream",
     "text": [
      "Cohen's d: -0.09\n"
     ]
    }
   ],
   "source": [
    "from math import sqrt\n",
    "\n",
    "def get_cohens_d(group1, group2):\n",
    "    '''Gets Cohen's measurement for the difference between two groups.\n",
    "    \n",
    "    Parameters:\n",
    "        group1: a dataframe series consisting of numerical values\n",
    "        group2: a datafrmae series consisting of numerical values\n",
    "        \n",
    "    Return value: a float representing the number of standard deviations\n",
    "        of difference between the means of the two groups.\n",
    "    '''\n",
    "    \n",
    "    mean_diff = group1.mean() - group2.mean()\n",
    "    var_1, var_2 = group1.var(), group2.var()\n",
    "    n1, n2 = len(group1), len(group2)\n",
    "    \n",
    "    pooled_var = (n1 * var_1 + n2 * var_2) / (n1 + n2)\n",
    "    cohens_d = mean_diff / sqrt(pooled_var)\n",
    "    \n",
    "    return cohens_d\n",
    "\n",
    "# Calculate the Cohen difference between the two groups\n",
    "d = get_cohens_d(first_births.totalwgt_lb, other_births.totalwgt_lb)\n",
    "print(f\"Cohen's d: {round(d, 2)}\")"
   ]
  },
  {
   "cell_type": "markdown",
   "id": "526f6eab",
   "metadata": {},
   "source": [
    "The Cohen's *d* measurement tells us that the difference it means in the total weight of Firstborns is only .09 standard deviations lower than the mean weight of other babies."
   ]
  },
  {
   "cell_type": "markdown",
   "id": "a9259392",
   "metadata": {},
   "source": [
    "#### 3. How do the results for total weight compare to the results for pregnancy length?\n",
    "\n",
    "The results for total weight are similar to the findings for our comparison of pregnancy length; there does not appear to be a meaningful difference between the weights of firstborn babies versus the weight of other babies. "
   ]
  }
 ],
 "metadata": {
  "kernelspec": {
   "display_name": "Python 3 (ipykernel)",
   "language": "python",
   "name": "python3"
  },
  "language_info": {
   "codemirror_mode": {
    "name": "ipython",
    "version": 3
   },
   "file_extension": ".py",
   "mimetype": "text/x-python",
   "name": "python",
   "nbconvert_exporter": "python",
   "pygments_lexer": "ipython3",
   "version": "3.11.5"
  }
 },
 "nbformat": 4,
 "nbformat_minor": 5
}
